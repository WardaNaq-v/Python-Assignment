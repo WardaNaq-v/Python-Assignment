{
 "cells": [
  {
   "cell_type": "code",
   "execution_count": 4,
   "metadata": {},
   "outputs": [
    {
     "name": "stdout",
     "output_type": "stream",
     "text": [
      "\tQuestion-1\n",
      "\n",
      "Twinkle, twinkle, little star,\n",
      "      How I wonder what you are!\n",
      "            Up above the world so high,\n",
      "            Like a diamond in the sky.\n",
      "Twinkle, twinkle, little star,\n",
      "      How I wonder what you are\n"
     ]
    }
   ],
   "source": [
    "x=\" \"\n",
    "print(\"\\tQuestion-1\\n\")\n",
    "print(\"Twinkle, twinkle, little star,\\n\" + 6*x + \"How I wonder what you are!\\n\" + 12*x + \"Up above the world so high,\\n\" + 12*x + \"Like a diamond in the sky.\\nTwinkle, twinkle, little star,\\n\"+ 6*x + \"How I wonder what you are\")"
   ]
  },
  {
   "cell_type": "code",
   "execution_count": 5,
   "metadata": {
    "scrolled": true
   },
   "outputs": [
    {
     "name": "stdout",
     "output_type": "stream",
     "text": [
      "\tQuestion-2\n",
      "\n",
      "Python version\n",
      "3.7.4 (default, Aug  9 2019, 18:34:13) [MSC v.1915 64 bit (AMD64)]\n",
      "Version info.\n",
      "sys.version_info(major=3, minor=7, micro=4, releaselevel='final', serial=0)\n"
     ]
    }
   ],
   "source": [
    "import sys\n",
    "print(\"\\tQuestion-2\\n\")\n",
    "print(\"Python version\")\n",
    "print (sys.version)\n",
    "print(\"Version info.\")\n",
    "print (sys.version_info)"
   ]
  },
  {
   "cell_type": "code",
   "execution_count": 1,
   "metadata": {},
   "outputs": [
    {
     "name": "stdout",
     "output_type": "stream",
     "text": [
      "\tQuestion-3\n",
      "\n",
      "Current date and time  \n",
      "FORMAT-1\n",
      "2019-11-03  11:42:23\n",
      "FORMAT-2\n",
      "November 03,2019  11:42 AM\n"
     ]
    }
   ],
   "source": [
    "from datetime import datetime\n",
    "current_date_time = datetime.now()\n",
    "print(\"\\tQuestion-3\\n\")\n",
    "print (\"Current date and time  \")\n",
    "print(\"FORMAT-1\")\n",
    "print (current_date_time.strftime(\"%Y-%m-%d  %H:%M:%S\"))\n",
    "print(\"FORMAT-2\")\n",
    "print (current_date_time.strftime(\"%B %d,%Y  %I:%M %p\"))"
   ]
  },
  {
   "cell_type": "code",
   "execution_count": 8,
   "metadata": {},
   "outputs": [
    {
     "name": "stdout",
     "output_type": "stream",
     "text": [
      "\tQuestion-4\n",
      "\n",
      "Enter value of radius of circle: 2\n",
      "Area of circle with radius 2.0 is 12.566370614359172\n"
     ]
    }
   ],
   "source": [
    "from math import pi\n",
    "print(\"\\tQuestion-4\\n\")\n",
    "radius=float(input(\"Enter value of radius of circle: \"))\n",
    "area=pi*radius**2\n",
    "print(\"Area of circle with radius \"+str(radius)+\" is \"+str(area))"
   ]
  },
  {
   "cell_type": "code",
   "execution_count": 12,
   "metadata": {},
   "outputs": [
    {
     "name": "stdout",
     "output_type": "stream",
     "text": [
      "\tQuestion-5\n",
      "\n",
      "Enter your first name:   Warda\n",
      "Enter your last name:    Naqvi\n",
      "\n",
      "Reverse order: Naqvi Warda\n"
     ]
    }
   ],
   "source": [
    "print(\"\\tQuestion-5\\n\")\n",
    "first_name=input(\"Enter your first name:   \")\n",
    "last_name=input(\"Enter your last name:    \")\n",
    "print(\"\\nReverse order: \"+last_name+\" \"+first_name)"
   ]
  },
  {
   "cell_type": "code",
   "execution_count": 13,
   "metadata": {},
   "outputs": [
    {
     "name": "stdout",
     "output_type": "stream",
     "text": [
      "\tQuestion-6\n",
      "\n",
      "Enter first value 2\n",
      "Enter second value 2\n",
      "After addition of two numbers: 4\n"
     ]
    }
   ],
   "source": [
    "print(\"\\tQuestion-6\\n\")\n",
    "number_1=int(input(\"Enter first value \"))\n",
    "number_2=int(input(\"Enter second value \"))\n",
    "add=number_1+number_2\n",
    "print(\"After addition of two numbers: \"+str(add))"
   ]
  }
 ],
 "metadata": {
  "kernelspec": {
   "display_name": "Python 3",
   "language": "python",
   "name": "python3"
  },
  "language_info": {
   "codemirror_mode": {
    "name": "ipython",
    "version": 3
   },
   "file_extension": ".py",
   "mimetype": "text/x-python",
   "name": "python",
   "nbconvert_exporter": "python",
   "pygments_lexer": "ipython3",
   "version": "3.7.4"
  }
 },
 "nbformat": 4,
 "nbformat_minor": 2
}
