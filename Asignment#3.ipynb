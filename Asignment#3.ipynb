{
 "cells": [
  {
   "cell_type": "code",
   "execution_count": 1,
   "metadata": {},
   "outputs": [
    {
     "name": "stdout",
     "output_type": "stream",
     "text": [
      "\tQuestion-1\n",
      "\n",
      "Enter first value 2\n",
      "Enter second value 2\n",
      "Enter operator **\n",
      "4 answer\n"
     ]
    }
   ],
   "source": [
    "print(\"\\tQuestion-1\\n\")\n",
    "val1=int(input('Enter first value '))\n",
    "val2=int(input('Enter second value '))\n",
    "op=input('Enter operator ')\n",
    "if op=='+':\n",
    "  val=val1+val2\n",
    "  print(val,'answer')\n",
    "elif op=='-':\n",
    "  val=val1-val2\n",
    "  print(val,'answer')\n",
    "elif op=='*':\n",
    "  val=val1*val2\n",
    "  print(val,'answer')\n",
    "elif op=='/':\n",
    "  val=val1/val2\n",
    "  print(val,'answer')\n",
    "elif op=='**':\n",
    "  val=val1**val2\n",
    "  print(val,'answer')\n",
    "else:\n",
    "  print('Enter correct operator')"
   ]
  },
  {
   "cell_type": "code",
   "execution_count": 2,
   "metadata": {},
   "outputs": [
    {
     "name": "stdout",
     "output_type": "stream",
     "text": [
      "\tQuestion-2\n",
      "\n",
      "2 numeric value in list\n"
     ]
    }
   ],
   "source": [
    "print(\"\\tQuestion-2\\n\")\n",
    "test_list = [ 5, 'Warda', 6, 'Nabila', '5', 'Sabah' ]\n",
    "count=0\n",
    "for i in test_list: \n",
    "    if(isinstance(i, int)) == True :\n",
    "        count+=1;\n",
    "    if count==0:\n",
    "        print(\"no numeric value in list\")\n",
    "        break\n",
    "print(count,'numeric value in list')"
   ]
  },
  {
   "cell_type": "code",
   "execution_count": 3,
   "metadata": {},
   "outputs": [
    {
     "name": "stdout",
     "output_type": "stream",
     "text": [
      "\tQuestion-3\n",
      "\n",
      "Old dictionary:  {'First Name': 'Syeda', 'Last Name': 'Warda', 'City': 'Karachi'}\n",
      "New dictionary:  {'First Name': 'Syeda', 'Last Name': 'Warda', 'City': 'Karachi', 'Gender': 'Female'}\n"
     ]
    }
   ],
   "source": [
    "print(\"\\tQuestion-3\\n\")\n",
    "Customer = {'First Name':'Syeda', 'Last Name':'Warda','City':'Karachi'}  \n",
    "print('Old dictionary: ',Customer)  \n",
    "Customer.update({'Gender':'Female'})  \n",
    "print('New dictionary: ',Customer)  "
   ]
  },
  {
   "cell_type": "code",
   "execution_count": 48,
   "metadata": {},
   "outputs": [
    {
     "name": "stdout",
     "output_type": "stream",
     "text": [
      "\tQuestion-4\n",
      "\n",
      "Sum of keys in dictionary :  7\n",
      "Sum of values in dictionary :  5\n"
     ]
    }
   ],
   "source": [
    "print(\"\\tQuestion-4\\n\")\n",
    "numbers = {5:2, 2:3, 'last name':'naqvi'}\n",
    "sum_value=0\n",
    "sum_key=0\n",
    "for key,value in numbers.items():\n",
    "    if(isinstance(value, int)) == True :\n",
    "       sum_value+=value\n",
    "    if(isinstance(key, int)) == True :\n",
    "       sum_key+=key    \n",
    "print('Sum of keys in dictionary : ',sum_key)     \n",
    "print('Sum of values in dictionary : ',sum_value)\n"
   ]
  },
  {
   "cell_type": "code",
   "execution_count": 5,
   "metadata": {},
   "outputs": [
    {
     "name": "stdout",
     "output_type": "stream",
     "text": [
      "\tQuestion-5\n",
      "\n",
      "list of duplicate numbers:  [2, 1, 5]\n"
     ]
    }
   ],
   "source": [
    "print(\"\\tQuestion-5\\n\")\n",
    "seen = {}\n",
    "dupes = []\n",
    "a = [1,2,3,2,1,5,6,5,5,5]\n",
    "for x in a:\n",
    "    if x not in seen:\n",
    "        seen[x] = 1\n",
    "    else:\n",
    "        if seen[x] == 1:\n",
    "            dupes.append(x)\n",
    "        seen[x] += 1     \n",
    "        \n",
    "print('list of duplicate numbers: ',dupes)"
   ]
  },
  {
   "cell_type": "code",
   "execution_count": 6,
   "metadata": {},
   "outputs": [
    {
     "name": "stdout",
     "output_type": "stream",
     "text": [
      "\tQuestion-6\n",
      "\n",
      "Enter a key Middle Name\n",
      "Key is not present\n"
     ]
    }
   ],
   "source": [
    "print(\"\\tQuestion-6\\n\")\n",
    "Customer = {'First Name':'Syeda', 'Last Name':'Warda','City':'Karachi'}  \n",
    "key=input('Enter a key ')\n",
    "if key in Customer:\n",
    "    print('Key is already present')\n",
    "else:\n",
    "    print('Key is not present')"
   ]
  }
 ],
 "metadata": {
  "kernelspec": {
   "display_name": "Python 3",
   "language": "python",
   "name": "python3"
  },
  "language_info": {
   "codemirror_mode": {
    "name": "ipython",
    "version": 3
   },
   "file_extension": ".py",
   "mimetype": "text/x-python",
   "name": "python",
   "nbconvert_exporter": "python",
   "pygments_lexer": "ipython3",
   "version": "3.7.4"
  }
 },
 "nbformat": 4,
 "nbformat_minor": 2
}
