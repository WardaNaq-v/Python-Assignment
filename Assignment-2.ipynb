{
 "cells": [
  {
   "cell_type": "code",
   "execution_count": 6,
   "metadata": {},
   "outputs": [
    {
     "name": "stdout",
     "output_type": "stream",
     "text": [
      "\tQUESTION-1\n",
      "\n",
      "\tMARKSHEET\n",
      "\n",
      "Enter marks of the first subject: 101\n",
      "Incorrect subject number\n",
      "Enter marks of the first subject: 100\n",
      "Enter marks of the second subject: 101\n",
      "Incorrect subject number\n",
      "Enter marks of the second subject: 100\n",
      "Enter marks of the third subject: 101\n",
      "Incorrect subject number\n",
      "Enter marks of the third subject: 100\n",
      "Enter marks of the fourth subject: 101\n",
      "Incorrect subject number\n",
      "Enter marks of the fourth subject: 100\n",
      "Enter marks of the fifth subject: 101\n",
      "Incorrect subject number\n",
      "Enter marks of the fifth subject: 100\n",
      "Total : 500\n",
      "\n",
      "Grade: A+\n"
     ]
    }
   ],
   "source": [
    "print(\"\\tQUESTION-1\\n\")\n",
    "print(\"\\tMARKSHEET\\n\")\n",
    "sub1=int(input(\"Enter marks of the first subject: \"))\n",
    "if sub1>=0 and sub1<=100:\n",
    " sub2=int(input(\"Enter marks of the second subject: \"))\n",
    "else:\n",
    " print(\"Incorrect subject number\")\n",
    " sub1=int(input(\"Enter marks of the first subject: \")) \n",
    " sub2=int(input(\"Enter marks of the second subject: \"))   \n",
    "if sub2>=0 and sub2<=100:   \n",
    " sub3=int(input(\"Enter marks of the third subject: \"))\n",
    "else:\n",
    " print(\"Incorrect subject number\")\n",
    " sub2=int(input(\"Enter marks of the second subject: \"))\n",
    " sub3=int(input(\"Enter marks of the third subject: \"))   \n",
    "if sub3>=0 and sub3<=100:    \n",
    " sub4=int(input(\"Enter marks of the fourth subject: \"))\n",
    "else:\n",
    " print(\"Incorrect subject number\")\n",
    " sub3=int(input(\"Enter marks of the third subject: \"))\n",
    " sub4=int(input(\"Enter marks of the fourth subject: \"))   \n",
    "if sub4>=0 and sub4<=100: \n",
    " sub5=int(input(\"Enter marks of the fifth subject: \"))\n",
    "else:\n",
    " print(\"Incorrect subject number\")\n",
    " sub4=int(input(\"Enter marks of the fourth subject: \"))\n",
    " sub5=int(input(\"Enter marks of the fifth subject: \"))   \n",
    "if sub5>=0 and sub5<=100: \n",
    " total=sub1+sub2+sub3+sub4+sub4\n",
    "else:\n",
    "     print(\"Incorrect subject number\")\n",
    "     sub5=int(input(\"Enter marks of the fifth subject: \")) \n",
    "     total=sub1+sub2+sub3+sub4+sub4  \n",
    "print('Total :',total)\n",
    "avg=total/5\n",
    "if avg >= 80 and avg <= 100:\n",
    "   print(\"\\nGrade: A+\")\n",
    "elif avg >= 70 and avg < 80:\n",
    "   print(\"\\nGrade: A\")\n",
    "elif avg >= 60 and avg < 70:\n",
    "   print(\"\\nGrade: B\")\n",
    "elif avg >= 50 and avg < 60:\n",
    "   print(\"\\nGrade: C\")\n",
    "elif avg >= 40 and avg < 50:\n",
    "   print(\"\\nGrade: D\")\n",
    "elif avg >= 33 and avg < 40:\n",
    "   print(\"\\nGrade: E\")\n",
    "elif avg >= 0 and avg < 33:\n",
    "   print(\"\\nGrade: F\")\n",
    "else:\n",
    "   print(\"\\nYou have been given inappropriate %: \")"
   ]
  },
  {
   "cell_type": "code",
   "execution_count": 7,
   "metadata": {},
   "outputs": [
    {
     "name": "stdout",
     "output_type": "stream",
     "text": [
      "\tQUESTION-2\n",
      "\n",
      "Enter a number: 5\n",
      "This is an odd number.\n"
     ]
    }
   ],
   "source": [
    "print(\"\\tQUESTION-2\\n\")\n",
    "num = int(input(\"Enter a number: \"))\n",
    "mod = num % 2\n",
    "if mod > 0:\n",
    "    print(\"This is an odd number.\")\n",
    "else:\n",
    "    print(\"This is an even number.\")"
   ]
  },
  {
   "cell_type": "code",
   "execution_count": 8,
   "metadata": {},
   "outputs": [
    {
     "name": "stdout",
     "output_type": "stream",
     "text": [
      "\tQUESTION-3\n",
      "\n",
      "The length of list is:  4\n"
     ]
    }
   ],
   "source": [
    "print(\"\\tQUESTION-3\\n\")\n",
    "list=[10,20,30,40]\n",
    "n = len(list) \n",
    "print(\"The length of list is: \", n) "
   ]
  },
  {
   "cell_type": "code",
   "execution_count": 9,
   "metadata": {},
   "outputs": [
    {
     "name": "stdout",
     "output_type": "stream",
     "text": [
      "\tQUESTION-4\n",
      "\n",
      "Sum of elements in given list is : 100\n"
     ]
    }
   ],
   "source": [
    "print(\"\\tQUESTION-4\\n\")\n",
    "list=[10,20,30,40]\n",
    "print(\"Sum of elements in given list is :\", sum(list))"
   ]
  },
  {
   "cell_type": "code",
   "execution_count": 16,
   "metadata": {},
   "outputs": [
    {
     "name": "stdout",
     "output_type": "stream",
     "text": [
      "\tQUESTION-5\n",
      "\n",
      "Maximum number in given list is : 40\n"
     ]
    }
   ],
   "source": [
    "print(\"\\tQUESTION-5\\n\")\n",
    "list=[10,20,30,40]\n",
    "print(\"Maximum number in given list is :\", max(list))"
   ]
  },
  {
   "cell_type": "code",
   "execution_count": 30,
   "metadata": {},
   "outputs": [
    {
     "name": "stdout",
     "output_type": "stream",
     "text": [
      "\tQUESTION-6\n",
      "\n",
      "New list of less than 5 numbers is : [1]\n",
      "New list of less than 5 numbers is : [1, 1]\n",
      "New list of less than 5 numbers is : [1, 1, 2]\n",
      "New list of less than 5 numbers is : [1, 1, 2, 3]\n",
      "New list of less than 5 numbers is : [1, 1, 2, 3]\n",
      "New list of less than 5 numbers is : [1, 1, 2, 3]\n",
      "New list of less than 5 numbers is : [1, 1, 2, 3]\n",
      "New list of less than 5 numbers is : [1, 1, 2, 3]\n",
      "New list of less than 5 numbers is : [1, 1, 2, 3]\n",
      "New list of less than 5 numbers is : [1, 1, 2, 3]\n",
      "New list of less than 5 numbers is : [1, 1, 2, 3]\n"
     ]
    }
   ],
   "source": [
    "print(\"\\tQUESTION-6\\n\")\n",
    "a = [1, 1, 2, 3, 5, 8, 13, 21, 34, 55, 89]\n",
    "new_list=[]\n",
    "for item in a:\n",
    " if item<5:\n",
    "    new_list.append(item)\n",
    "\n",
    " print(\"New list of less than 5 numbers is :\", new_list)"
   ]
  }
 ],
 "metadata": {
  "kernelspec": {
   "display_name": "Python 3",
   "language": "python",
   "name": "python3"
  },
  "language_info": {
   "codemirror_mode": {
    "name": "ipython",
    "version": 3
   },
   "file_extension": ".py",
   "mimetype": "text/x-python",
   "name": "python",
   "nbconvert_exporter": "python",
   "pygments_lexer": "ipython3",
   "version": "3.7.4"
  }
 },
 "nbformat": 4,
 "nbformat_minor": 2
}
