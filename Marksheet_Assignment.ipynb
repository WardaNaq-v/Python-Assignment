{
 "cells": [
  {
   "cell_type": "code",
   "execution_count": 26,
   "metadata": {},
   "outputs": [
    {
     "name": "stdout",
     "output_type": "stream",
     "text": [
      "\tMARKSHEET\n",
      "\n",
      "Enter your percentage: 40\n",
      "\n",
      "Grade: D\n"
     ]
    }
   ],
   "source": [
    "print(\"\\tMARKSHEET\\n\")\n",
    "percentage=float(input(\"Enter your percentage: \"))\n",
    "if percentage >= 80 and percentage <= 100:\n",
    "   print(\"\\nGrade: A+\")\n",
    "elif percentage >= 70 and percentage < 80:\n",
    "   print(\"\\nGrade: A\")\n",
    "elif percentage >= 60 and percentage < 70:\n",
    "   print(\"\\nGrade: B\")\n",
    "elif percentage >= 50 and percentage < 60:\n",
    "   print(\"\\nGrade: C\")\n",
    "elif percentage >= 40 and percentage < 50:\n",
    "   print(\"\\nGrade: D\")\n",
    "elif percentage >= 33 and percentage < 40:\n",
    "   print(\"\\nGrade: E\")\n",
    "elif percentage >= 0 and percentage < 33:\n",
    "   print(\"\\nGrade: F\")\n",
    "else:\n",
    "   print(\"\\nYou have been given inappropriate %: \")"
   ]
  }
 ],
 "metadata": {
  "kernelspec": {
   "display_name": "Python 3",
   "language": "python",
   "name": "python3"
  },
  "language_info": {
   "codemirror_mode": {
    "name": "ipython",
    "version": 3
   },
   "file_extension": ".py",
   "mimetype": "text/x-python",
   "name": "python",
   "nbconvert_exporter": "python",
   "pygments_lexer": "ipython3",
   "version": "3.7.4"
  }
 },
 "nbformat": 4,
 "nbformat_minor": 2
}
