{
 "cells": [
  {
   "cell_type": "code",
   "execution_count": 16,
   "metadata": {},
   "outputs": [
    {
     "name": "stdout",
     "output_type": "stream",
     "text": [
      "\tQuestion-1\n",
      "\n",
      "{'first_name,': 'Syeda Warda', 'last_name,': 'Naqvi', 'age': '22', 'city': 'Karachi'}\n",
      "\n",
      "\tAddition of key named as qualification\n",
      "\n",
      "{'first_name,': 'Syeda Warda', 'last_name,': 'Naqvi', 'age': '22', 'city': 'Karachi', 'qualification': 'Bachelors in Computer Engineering'}\n",
      "\n",
      "\tUpdated value of qualification \n",
      "\n",
      "{'first_name,': 'Syeda Warda', 'last_name,': 'Naqvi', 'age': '22', 'city': 'Karachi', 'qualification': 'high academic level'}\n",
      "\n",
      "\tDelete key qualification\n",
      "\n",
      "{'first_name,': 'Syeda Warda', 'last_name,': 'Naqvi', 'age': '22', 'city': 'Karachi'}\n"
     ]
    }
   ],
   "source": [
    "print(\"\\tQuestion-1\\n\")\n",
    "CS_Engineer={\"first_name,\":\"Syeda Warda\",\"last_name,\":\"Naqvi\",\"age\":\"22\",\"city\":\"Karachi\"}\n",
    "print(CS_Engineer)\n",
    "print(\"\\n\\tAddition of key named as qualification\\n\")\n",
    "CS_Engineer[\"qualification\"]=\"Bachelors in Computer Engineering\"\n",
    "print(CS_Engineer)\n",
    "print(\"\\n\\tUpdated value of qualification \\n\")\n",
    "CS_Engineer[\"qualification\"]=\"high academic level\"\n",
    "print(CS_Engineer)\n",
    "print(\"\\n\\tDelete key qualification\\n\")\n",
    "del CS_Engineer[\"qualification\"]\n",
    "print(CS_Engineer)\n",
    "#print(CS_Engineer[\"first_name\"])"
   ]
  },
  {
   "cell_type": "code",
   "execution_count": 2,
   "metadata": {},
   "outputs": [
    {
     "name": "stdout",
     "output_type": "stream",
     "text": [
      "\tQuestion-2\n",
      "\n",
      "{'Karachi': {'country': 'Pakistan', 'population': '14,910,352', 'fact': ' Karachi is capital of the Pakistani province of Sindh'}, 'Hyderabad': {'country': 'Pakistan', 'population': '1,732,693', 'fact': 'Hyderabad is second largest city in Sindh'}, 'Sukkur': {'country': 'Pakistan', 'population': '893,438', 'fact': ' Sukkur is a city in the Pakistani province of Sindh along the western bank of the Indus River'}}\n",
      "\n",
      " {'country': 'Pakistan', 'population': '14,910,352', 'fact': ' Karachi is capital of the Pakistani province of Sindh'}\n",
      "\n",
      " {'country': 'Pakistan', 'population': '1,732,693', 'fact': 'Hyderabad is second largest city in Sindh'}\n",
      "\n",
      " {'country': 'Pakistan', 'population': '893,438', 'fact': ' Sukkur is a city in the Pakistani province of Sindh along the western bank of the Indus River'}\n"
     ]
    }
   ],
   "source": [
    "print(\"\\tQuestion-2\\n\")\n",
    "cities={\"Karachi\":\n",
    "        {\"country\":\"Pakistan\",\"population\":\"14,910,352\",\"fact\":\" Karachi is capital of the Pakistani province of Sindh\"},\n",
    "        \"Hyderabad\":\n",
    "        {\"country\":\"Pakistan\",\"population\":\"1,732,693\",\"fact\":\"Hyderabad is second largest city in Sindh\"},\n",
    "        \"Sukkur\":\n",
    "        {\"country\":\"Pakistan\",\"population\":\"893,438\",\"fact\":\" Sukkur is a city in the Pakistani province of Sindh along the western bank of the Indus River\"}\n",
    "       }\n",
    "print(cities)\n",
    "print(\"\\n\",cities[\"Karachi\"])\n",
    "print(\"\\n\",cities[\"Hyderabad\"])\n",
    "print(\"\\n\",cities[\"Sukkur\"])\n"
   ]
  },
  {
   "cell_type": "code",
   "execution_count": 2,
   "metadata": {},
   "outputs": [
    {
     "name": "stdout",
     "output_type": "stream",
     "text": [
      "\tQuestion-3\n",
      "\n",
      "\n",
      "How old are you? (Q to quit)2\n",
      "Your ticket is free.\n",
      "\n",
      "How old are you? (Q to quit)3\n",
      "Your ticket is $10\n",
      "\n",
      "How old are you? (Q to quit)12\n",
      "Your ticket is $10\n",
      "\n",
      "How old are you? (Q to quit)13\n",
      "Your ticket is $15\n",
      "\n",
      "How old are you? (Q to quit)q\n",
      "\n",
      "Goodbye\n"
     ]
    }
   ],
   "source": [
    "print(\"\\tQuestion-3\\n\")\n",
    "while True:\n",
    "    age = input(\"\\nHow old are you? (Q to quit)\")\n",
    "    if age.lower() == \"q\":\n",
    "        break\n",
    "    try:\n",
    "        age = int(age)\n",
    "        if age <3:\n",
    "             print(\"Your ticket is free.\")\n",
    "        elif age >= 3 and age <= 12:\n",
    "             print(\"Your ticket is $10\")\n",
    "        elif age > 12:\n",
    "             print(\"Your ticket is $15\")\n",
    "    except:\n",
    "        print(\"Invalid entry\")\n",
    "print(\"\\nGoodbye\")"
   ]
  },
  {
   "cell_type": "code",
   "execution_count": 3,
   "metadata": {},
   "outputs": [
    {
     "name": "stdout",
     "output_type": "stream",
     "text": [
      "\tQuestion-4\n",
      "\n",
      "Enter title of your favorite book: Alice\n",
      "One of my favorite books is Alice in Wonderland.\n"
     ]
    }
   ],
   "source": [
    "print(\"\\tQuestion-4\\n\")\n",
    "def favorite_book(title):\n",
    "    print(\"One of my favorite books is\"+\" \"+title +\" \"+ \"in Wonderland.\")\n",
    "\n",
    "title=input(\"Enter title of your favorite book: \")    \n",
    "favorite_book(title) "
   ]
  },
  {
   "cell_type": "code",
   "execution_count": 1,
   "metadata": {},
   "outputs": [
    {
     "name": "stdout",
     "output_type": "stream",
     "text": [
      "\tQuestion-5\n",
      "\n",
      "Hello! What is your name?\n",
      "Warda\n",
      "Well, Warda, I am thinking of a number between 1 and 30.\n",
      "Take a guess.\n",
      "24\n",
      "Your guess is too high.\n",
      "Take a guess.\n",
      "12\n",
      "Your guess is too high.\n",
      "Take a guess.\n",
      "7\n",
      "Your guess is too low.\n",
      "Nope. The number I was thinking of was 9\n"
     ]
    }
   ],
   "source": [
    "print(\"\\tQuestion-5\\n\")\n",
    "# This is a guess the number game.\n",
    "import random\n",
    "guessesTaken = 0\n",
    "print('Hello! What is your name?')\n",
    "myName = input()\n",
    "number = random.randint(1, 30)\n",
    "print('Well, ' + myName + ', I am thinking of a number between 1 and 30.')\n",
    "while guessesTaken < 3:\n",
    "    print('Take a guess.') # There are four spaces in front of print.\n",
    "    guess = input()\n",
    "    guess = int(guess)\n",
    "    guessesTaken = guessesTaken + 1\n",
    "    if guess < number:\n",
    "        print('Your guess is too low.') # There are eight spaces in front of print.\n",
    "    if guess > number:\n",
    "        print('Your guess is too high.')\n",
    "    if guess == number:\n",
    "        break\n",
    "if guess == number:\n",
    "    guessesTaken = str(guessesTaken)\n",
    "    print('Good job, ' + myName + '! You guessed my number in ' + guessesTaken + ' guesses!')\n",
    "if guess != number:\n",
    "    number = str(number)\n",
    "    print('Nope. The number I was thinking of was ' + number)"
   ]
  },
  {
   "cell_type": "code",
   "execution_count": null,
   "metadata": {},
   "outputs": [],
   "source": []
  }
 ],
 "metadata": {
  "kernelspec": {
   "display_name": "Python 3",
   "language": "python",
   "name": "python3"
  },
  "language_info": {
   "codemirror_mode": {
    "name": "ipython",
    "version": 3
   },
   "file_extension": ".py",
   "mimetype": "text/x-python",
   "name": "python",
   "nbconvert_exporter": "python",
   "pygments_lexer": "ipython3",
   "version": "3.7.4"
  }
 },
 "nbformat": 4,
 "nbformat_minor": 2
}
