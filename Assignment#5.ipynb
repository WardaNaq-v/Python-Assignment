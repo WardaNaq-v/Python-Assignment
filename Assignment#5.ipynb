{
 "cells": [
  {
   "cell_type": "code",
   "execution_count": 30,
   "metadata": {},
   "outputs": [
    {
     "name": "stdout",
     "output_type": "stream",
     "text": [
      "\tQuestion-1\n",
      "\n",
      "Input a number to compute the factiorial : 4\n",
      "24\n"
     ]
    }
   ],
   "source": [
    "print(\"\\tQuestion-1\\n\")\n",
    "def factorial(n):\n",
    "    if n == 0:\n",
    "        return 1\n",
    "    else:\n",
    "        return n * factorial(n-1)\n",
    "n=int(input(\"Input a number to compute the factiorial : \"))\n",
    "print(factorial(n))"
   ]
  },
  {
   "cell_type": "code",
   "execution_count": 29,
   "metadata": {},
   "outputs": [
    {
     "name": "stdout",
     "output_type": "stream",
     "text": [
      "\tQuestion-2\n",
      "\n",
      "Enter your string: SyedA WarDa NaqVi\n",
      "Original String :  SyedA WarDa NaqVi\n",
      "No. of Upper case characters :  6\n",
      "No. of Lower case Characters :  9\n",
      "None\n"
     ]
    }
   ],
   "source": [
    "print(\"\\tQuestion-2\\n\")\n",
    "def string_test(s):\n",
    "    upper=0;\n",
    "    lower=0;\n",
    "    for c in s:\n",
    "        if c.isupper():\n",
    "            upper+=1\n",
    "        elif c.islower():\n",
    "             lower+=1\n",
    "        else:\n",
    "           pass\n",
    "    print (\"Original String : \", s)\n",
    "    print (\"No. of Upper case characters : \", upper)\n",
    "    print (\"No. of Lower case Characters : \", lower)\n",
    "    \n",
    "\n",
    "n=input('Enter your string: ')\n",
    "print(string_test(n))"
   ]
  },
  {
   "cell_type": "code",
   "execution_count": 28,
   "metadata": {},
   "outputs": [
    {
     "name": "stdout",
     "output_type": "stream",
     "text": [
      "\tQuestion-3\n",
      "\n",
      "Enter a list numbers or elements separated by space: 1 2 3 4 5 6 7 8\n",
      "Your entered list:  ['1', '2', '3', '4', '5', '6', '7', '8']\n",
      "Even numbers in the list:  ['2', '4', '6', '8']\n",
      "None\n"
     ]
    }
   ],
   "source": [
    "print(\"\\tQuestion-3\\n\")\n",
    "def even_in_list(num):\n",
    "    List = num.split()\n",
    "    print(\"Your entered list: \",List)\n",
    "        \n",
    "    even_nos = [n for n in List if int(n) % 2 == 0] \n",
    "    print(\"Even numbers in the list: \", even_nos) \n",
    "    \n",
    "list1 = input(\"Enter a list numbers or elements separated by space: \")\n",
    "print(even_in_list(list1))"
   ]
  },
  {
   "cell_type": "code",
   "execution_count": 27,
   "metadata": {},
   "outputs": [
    {
     "name": "stdout",
     "output_type": "stream",
     "text": [
      "\tQuestion-4\n",
      "\n",
      "Enter your string: madam\n",
      "True\n"
     ]
    }
   ],
   "source": [
    "print(\"\\tQuestion-4\\n\")\n",
    "def isPalindrome(string):\n",
    "    left_pos = 0\n",
    "    right_pos = len(string) - 1\n",
    "\n",
    "    while right_pos >= left_pos:\n",
    "        if not string[left_pos] == string[right_pos]:\n",
    "            return False\n",
    "        left_pos += 1\n",
    "        right_pos -= 1\n",
    "    return True\n",
    "string=input(\"Enter your string: \")\n",
    "print(isPalindrome(string)) "
   ]
  },
  {
   "cell_type": "code",
   "execution_count": 25,
   "metadata": {},
   "outputs": [
    {
     "name": "stdout",
     "output_type": "stream",
     "text": [
      "\tQuestion-5\n",
      "\n",
      "False\n"
     ]
    }
   ],
   "source": [
    "print(\"\\tQuestion-5\\n\")\n",
    "def test_prime(n):\n",
    "    if (n==1):\n",
    "        return False\n",
    "    elif (n==2):\n",
    "        return True;   \n",
    "    else:\n",
    "        for x in range(2,n):\n",
    "            if(n % x==0):\n",
    "                return False  \n",
    "        return True             \n",
    "    \n",
    "print(test_prime(4))"
   ]
  },
  {
   "cell_type": "code",
   "execution_count": 12,
   "metadata": {},
   "outputs": [
    {
     "name": "stdout",
     "output_type": "stream",
     "text": [
      "\tQuestion-6\n",
      "\n",
      "Your items: \n",
      "Tomato\n",
      "Onion\n",
      "Oil\n",
      "Red sauce\n",
      "Cold drink\n"
     ]
    }
   ],
   "source": [
    "print(\"\\tQuestion-6\\n\")\n",
    "def item_list(*items):\n",
    "    print(\"Your items: \")\n",
    "    for item in items:\n",
    "        print(item)\n",
    "        \n",
    "\n",
    "item_list(\"Tomato\",\"Onion\",\"Oil\",\"Red sauce\",\"Cold drink\")"
   ]
  }
 ],
 "metadata": {
  "kernelspec": {
   "display_name": "Python 3",
   "language": "python",
   "name": "python3"
  },
  "language_info": {
   "codemirror_mode": {
    "name": "ipython",
    "version": 3
   },
   "file_extension": ".py",
   "mimetype": "text/x-python",
   "name": "python",
   "nbconvert_exporter": "python",
   "pygments_lexer": "ipython3",
   "version": "3.7.4"
  }
 },
 "nbformat": 4,
 "nbformat_minor": 2
}
