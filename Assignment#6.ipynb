{
 "cells": [
  {
   "cell_type": "markdown",
   "metadata": {},
   "source": [
    "                                  Question-1\n",
    "Object-oriented programming (OOP) is a programming language model in which programs are organized around data, or objects, rather than functions and logic. An object can be defined as a data field that has unique attributes and behavior. "
   ]
  },
  {
   "cell_type": "markdown",
   "metadata": {},
   "source": [
    "                                  Question-2\n",
    "The benefits of object-oriented programming are described below:\n",
    "\n",
    "1. It provides a clear modular structure for programs which makes it good for defining abstract datatypes in which implementation details are hidden.\n",
    "\n",
    "2. Objects can also be reused within an across applications. The reuse of software also lowers the cost of development. More effort is put into the object-oriented analysis and design, which lowers the overall cost of development.\n",
    "\n",
    "3. It makes software easier to maintain. Since the design is modular, part of the system can be updated in case of issues without a need to make large-scale changes\n",
    "\n",
    "4. Reuse also enables faster development. Object-oriented programming languages come with rich libraries of objects, and code developed during projects is also reusable in future projects.\n",
    "\n",
    "5. It provides a good framework for code libraries where the supplied software components can be easily adapted and modified by the programmer. This is particularly useful for developing graphical user interfaces.\n",
    "\n",
    "6. Better Productivity as OOP techniques enforce rules on a programmer that, in the long run, help her get more work done; finished programs work better, have more features and are easier to read and maintain. OOP programmers take new and existing software objects and \"stitch\" them together to make new programs. Because object libraries contain many useful functions, software developers don't have to reinvent the wheel as often; more of their time goes into making the new program."
   ]
  },
  {
   "cell_type": "markdown",
   "metadata": {},
   "source": [
    "                                  Question-3\n",
    "    A function is a piece of code that is called by name. It can be passed data to operate on (i.e. the parameters) and can optionally return data (the return value). All data that is passed to a function is explicitly passed.\n",
    "    \n",
    "    A method is a piece of code that is called by a name that is associated with an object. In most respects it is identical to a function except for two key differences:\n",
    "1. A method is implicitly passed the object on which it was called.\n",
    "2. A method is able to operate on data that is contained within the class (remembering that an object is an instance of a class - the class is the definition, the object is an instance of that data)."
   ]
  },
  {
   "cell_type": "markdown",
   "metadata": {},
   "source": [
    "                                  Question-4\n",
    "1. CLASS:\n",
    "   A class is an entity that determines how an object will behave and what the object will contain. In other words, it is a blueprint or a set of instruction to build a specific type of object.\n",
    "    \n",
    "2. ObJECT:\n",
    "    An object is nothing but a self-contained component which consists of methods and properties to make a particular type of data useful. Object determines the behavior of the class.\n",
    "    \n",
    "3. ATTRIBUTE:\n",
    "    Attributes are the individual things that differentiate one object from another and determine the appearance, state, or other qualities of that object. \n",
    "    \n",
    "4. BEHAVIOR:\n",
    "    A class's behavior determines how an instance of that class operates; for example, how it will \"react\" if asked to do something by another class or object or if its internal state changes. Behavior is the only way objects can do anything to themselves or have anything done to them. "
   ]
  },
  {
   "cell_type": "code",
   "execution_count": 7,
   "metadata": {},
   "outputs": [
    {
     "name": "stdout",
     "output_type": "stream",
     "text": [
      "\tQuestion-5\n",
      "\n",
      "The current speed of car1 is:  5\n",
      "The current speed of car1 after brake is:  0\n"
     ]
    }
   ],
   "source": [
    "print(\"\\tQuestion-5\\n\")\n",
    "\n",
    "class Car():\n",
    "    def __init__(self,name,model,color,year,speed):\n",
    "   # 5 attributes     \n",
    "        self.name=name\n",
    "        self.model=model\n",
    "        self.color=color\n",
    "        self.year=year\n",
    "        self.speed=speed\n",
    "    # 3 methods\n",
    "    \n",
    "    def accelerate(self):\n",
    "        self.speed +=5\n",
    "\n",
    "    def brake(self):\n",
    "        self.speed -=5\n",
    "\n",
    "    def get_speed(self):\n",
    "        return self.speed\n",
    "\n",
    "\n",
    "# 5 object instances\n",
    "\n",
    "car1=Car('Toyota','ZZT250','Black','2019',0)\n",
    "car1.accelerate()\n",
    "print('The current speed of car1 is: ', car1.get_speed())\n",
    "car1.brake()\n",
    "print('The current speed of car1 after brake is: ', car1.get_speed())\n",
    "\n",
    "car2=Car('Honda','W8990','Blue','2018',5)\n",
    "\n",
    "car3=Car('Mehran','XY250','Red','2017',0)\n",
    "\n",
    "car4=Car('City','TTX50','White','2016',0)\n",
    "\n",
    "car5=Car('Alto','W9700','Gray','2015',0)\n"
   ]
  },
  {
   "cell_type": "code",
   "execution_count": null,
   "metadata": {},
   "outputs": [],
   "source": []
  }
 ],
 "metadata": {
  "kernelspec": {
   "display_name": "Python 3",
   "language": "python",
   "name": "python3"
  },
  "language_info": {
   "codemirror_mode": {
    "name": "ipython",
    "version": 3
   },
   "file_extension": ".py",
   "mimetype": "text/x-python",
   "name": "python",
   "nbconvert_exporter": "python",
   "pygments_lexer": "ipython3",
   "version": "3.7.4"
  }
 },
 "nbformat": 4,
 "nbformat_minor": 2
}
